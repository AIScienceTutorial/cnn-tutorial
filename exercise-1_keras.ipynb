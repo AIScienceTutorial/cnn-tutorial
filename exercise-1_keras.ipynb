{
 "cells": [
  {
   "cell_type": "markdown",
   "metadata": {},
   "source": [
    "# Exercise 1: Regression in Keras\n",
    "In this exercise, you will learn how to effectively use [Keras](https://keras.io/) to train neural network models. You will learn how to make your own Keras models, evaluate their performance, and see the different ways that models can overfit (and how to prevent them). Elements of this exercise have been adapted from the Keras tutorials for Keras.\n",
    "\n",
    "This notebook contains many sections that are filled out for you and many that you will need to fill out to complete the exercise (marked in <font color='red'>RED</font>). You are finished when \"Restarting and Run All Cells\" executes the entire notebook without producing any errors. Do not remove assert statements.\n",
    "\n",
    "**HINT**: An answer to each of the blank cells is hidden after each . Double click the cell to see the answer in its contents"
   ]
  },
  {
   "cell_type": "code",
   "execution_count": 1,
   "metadata": {},
   "outputs": [],
   "source": [
    "%matplotlib inline\n",
    "from matplotlib import pyplot as plt\n",
    "from sklearn.model_selection import train_test_split\n",
    "from sklearn.metrics import mean_absolute_error\n",
    "from tensorflow.keras import optimizers as opt\n",
    "from tensorflow.keras import Sequential\n",
    "from tensorflow.keras import layers\n",
    "from tensorflow import keras\n",
    "from time import perf_counter\n",
    "from math import isclose\n",
    "import pandas as pd\n",
    "import numpy as np\n",
    "import warnings\n",
    "np.random.seed(1)"
   ]
  },
  {
   "cell_type": "markdown",
   "metadata": {},
   "source": [
    "## Load Data\n",
    "We are going to use the [Auto MPG Dataset](https://archive.ics.uci.edu/ml/datasets/auto+mpg)"
   ]
  },
  {
   "cell_type": "markdown",
   "metadata": {},
   "source": [
    "First step is to download and cache it locally"
   ]
  },
  {
   "cell_type": "code",
   "execution_count": 2,
   "metadata": {},
   "outputs": [
    {
     "name": "stdout",
     "output_type": "stream",
     "text": [
      "Downloading data from http://archive.ics.uci.edu/ml/machine-learning-databases/auto-mpg/auto-mpg.data\n",
      "32768/30286 [================================] - 0s 2us/step\n"
     ]
    }
   ],
   "source": [
    "dataset_path = keras.utils.get_file(\"auto-mpg.data\", \"http://archive.ics.uci.edu/ml/machine-learning-databases/auto-mpg/auto-mpg.data\")"
   ]
  },
  {
   "cell_type": "markdown",
   "metadata": {},
   "source": [
    "Now, we read in the data using Pandas. As the dataset lacks headers, we have to make them ourselves"
   ]
  },
  {
   "cell_type": "code",
   "execution_count": 3,
   "metadata": {},
   "outputs": [
    {
     "name": "stdout",
     "output_type": "stream",
     "text": [
      "18.0   8   307.0      130.0      3504.      12.0   70  1\t\"chevrolet chevelle malibu\"\n",
      "15.0   8   350.0      165.0      3693.      11.5   70  1\t\"buick skylark 320\"\n",
      "18.0   8   318.0      150.0      3436.      11.0   70  1\t\"plymouth satellite\"\n",
      "16.0   8   304.0      150.0      3433.      12.0   70  1\t\"amc rebel sst\"\n",
      "17.0   8   302.0      140.0      3449.      10.5   70  1\t\"ford torino\"\n"
     ]
    }
   ],
   "source": [
    "with open(dataset_path) as fp:\n",
    "    for i in range(5):\n",
    "        print(fp.readline().strip())"
   ]
  },
  {
   "cell_type": "code",
   "execution_count": 4,
   "metadata": {},
   "outputs": [
    {
     "data": {
      "text/html": [
       "<div>\n",
       "<style scoped>\n",
       "    .dataframe tbody tr th:only-of-type {\n",
       "        vertical-align: middle;\n",
       "    }\n",
       "\n",
       "    .dataframe tbody tr th {\n",
       "        vertical-align: top;\n",
       "    }\n",
       "\n",
       "    .dataframe thead th {\n",
       "        text-align: right;\n",
       "    }\n",
       "</style>\n",
       "<table border=\"1\" class=\"dataframe\">\n",
       "  <thead>\n",
       "    <tr style=\"text-align: right;\">\n",
       "      <th></th>\n",
       "      <th>MPG</th>\n",
       "      <th>Cylinders</th>\n",
       "      <th>Displacement</th>\n",
       "      <th>Horsepower</th>\n",
       "      <th>Weight</th>\n",
       "      <th>Acceleration</th>\n",
       "      <th>Model Year</th>\n",
       "      <th>Origin</th>\n",
       "    </tr>\n",
       "  </thead>\n",
       "  <tbody>\n",
       "    <tr>\n",
       "      <th>0</th>\n",
       "      <td>18.0</td>\n",
       "      <td>8</td>\n",
       "      <td>307.0</td>\n",
       "      <td>130.0</td>\n",
       "      <td>3504.0</td>\n",
       "      <td>12.0</td>\n",
       "      <td>70</td>\n",
       "      <td>1</td>\n",
       "    </tr>\n",
       "    <tr>\n",
       "      <th>1</th>\n",
       "      <td>15.0</td>\n",
       "      <td>8</td>\n",
       "      <td>350.0</td>\n",
       "      <td>165.0</td>\n",
       "      <td>3693.0</td>\n",
       "      <td>11.5</td>\n",
       "      <td>70</td>\n",
       "      <td>1</td>\n",
       "    </tr>\n",
       "    <tr>\n",
       "      <th>2</th>\n",
       "      <td>18.0</td>\n",
       "      <td>8</td>\n",
       "      <td>318.0</td>\n",
       "      <td>150.0</td>\n",
       "      <td>3436.0</td>\n",
       "      <td>11.0</td>\n",
       "      <td>70</td>\n",
       "      <td>1</td>\n",
       "    </tr>\n",
       "    <tr>\n",
       "      <th>3</th>\n",
       "      <td>16.0</td>\n",
       "      <td>8</td>\n",
       "      <td>304.0</td>\n",
       "      <td>150.0</td>\n",
       "      <td>3433.0</td>\n",
       "      <td>12.0</td>\n",
       "      <td>70</td>\n",
       "      <td>1</td>\n",
       "    </tr>\n",
       "    <tr>\n",
       "      <th>4</th>\n",
       "      <td>17.0</td>\n",
       "      <td>8</td>\n",
       "      <td>302.0</td>\n",
       "      <td>140.0</td>\n",
       "      <td>3449.0</td>\n",
       "      <td>10.5</td>\n",
       "      <td>70</td>\n",
       "      <td>1</td>\n",
       "    </tr>\n",
       "  </tbody>\n",
       "</table>\n",
       "</div>"
      ],
      "text/plain": [
       "    MPG  Cylinders  Displacement  Horsepower  Weight  Acceleration  \\\n",
       "0  18.0          8         307.0       130.0  3504.0          12.0   \n",
       "1  15.0          8         350.0       165.0  3693.0          11.5   \n",
       "2  18.0          8         318.0       150.0  3436.0          11.0   \n",
       "3  16.0          8         304.0       150.0  3433.0          12.0   \n",
       "4  17.0          8         302.0       140.0  3449.0          10.5   \n",
       "\n",
       "   Model Year  Origin  \n",
       "0          70       1  \n",
       "1          70       1  \n",
       "2          70       1  \n",
       "3          70       1  \n",
       "4          70       1  "
      ]
     },
     "execution_count": 4,
     "metadata": {},
     "output_type": "execute_result"
    }
   ],
   "source": [
    "column_names = ['MPG', 'Cylinders', 'Displacement', 'Horsepower', 'Weight',\n",
    "                'Acceleration', 'Model Year', 'Origin']\n",
    "data = pd.read_csv(dataset_path, names=column_names,\n",
    "                   na_values = \"?\", comment='\\t',\n",
    "                   sep=\" \", skipinitialspace=True)\n",
    "data.head()"
   ]
  },
  {
   "cell_type": "markdown",
   "metadata": {},
   "source": [
    "The data has some missing values, and we'll just remove them"
   ]
  },
  {
   "cell_type": "code",
   "execution_count": 5,
   "metadata": {},
   "outputs": [
    {
     "name": "stdout",
     "output_type": "stream",
     "text": [
      "Total number of entries: 392\n"
     ]
    }
   ],
   "source": [
    "data.dropna(inplace=True)\n",
    "print(f'Total number of entries: {len(data)}')"
   ]
  },
  {
   "cell_type": "markdown",
   "metadata": {},
   "source": [
    "This is far from \"big data\", but will help us learn Keras with minimal waiting around for computations to finish"
   ]
  },
  {
   "cell_type": "markdown",
   "metadata": {},
   "source": [
    "### Preprocessing\n",
    "There are a few things we need to deal with about the data first to make it more accessible to machine learning.\n",
    "\n",
    "The first is the \"Origin\" column, which is a categorical variable expressed as a list of numbers. \n",
    "Categorial variables expressed this way cause problems with machine learning because the ordering of numbers suggest cardinality that does not exist\n",
    "(i.e., Origin \"1\" is not less than Origin \"2\").\n",
    "We will use [one-hot encoding](https://en.wikipedia.org/wiki/One-hot) to remove this false ordering."
   ]
  },
  {
   "cell_type": "code",
   "execution_count": 6,
   "metadata": {},
   "outputs": [
    {
     "data": {
      "text/html": [
       "<div>\n",
       "<style scoped>\n",
       "    .dataframe tbody tr th:only-of-type {\n",
       "        vertical-align: middle;\n",
       "    }\n",
       "\n",
       "    .dataframe tbody tr th {\n",
       "        vertical-align: top;\n",
       "    }\n",
       "\n",
       "    .dataframe thead th {\n",
       "        text-align: right;\n",
       "    }\n",
       "</style>\n",
       "<table border=\"1\" class=\"dataframe\">\n",
       "  <thead>\n",
       "    <tr style=\"text-align: right;\">\n",
       "      <th></th>\n",
       "      <th>Origin_1</th>\n",
       "      <th>Origin_2</th>\n",
       "      <th>Origin_3</th>\n",
       "    </tr>\n",
       "  </thead>\n",
       "  <tbody>\n",
       "    <tr>\n",
       "      <th>0</th>\n",
       "      <td>1</td>\n",
       "      <td>0</td>\n",
       "      <td>0</td>\n",
       "    </tr>\n",
       "    <tr>\n",
       "      <th>1</th>\n",
       "      <td>1</td>\n",
       "      <td>0</td>\n",
       "      <td>0</td>\n",
       "    </tr>\n",
       "    <tr>\n",
       "      <th>2</th>\n",
       "      <td>1</td>\n",
       "      <td>0</td>\n",
       "      <td>0</td>\n",
       "    </tr>\n",
       "    <tr>\n",
       "      <th>3</th>\n",
       "      <td>1</td>\n",
       "      <td>0</td>\n",
       "      <td>0</td>\n",
       "    </tr>\n",
       "    <tr>\n",
       "      <th>4</th>\n",
       "      <td>1</td>\n",
       "      <td>0</td>\n",
       "      <td>0</td>\n",
       "    </tr>\n",
       "  </tbody>\n",
       "</table>\n",
       "</div>"
      ],
      "text/plain": [
       "   Origin_1  Origin_2  Origin_3\n",
       "0         1         0         0\n",
       "1         1         0         0\n",
       "2         1         0         0\n",
       "3         1         0         0\n",
       "4         1         0         0"
      ]
     },
     "execution_count": 6,
     "metadata": {},
     "output_type": "execute_result"
    }
   ],
   "source": [
    "new_origin = pd.get_dummies(data['Origin'], prefix='Origin')\n",
    "new_origin.head()"
   ]
  },
  {
   "cell_type": "markdown",
   "metadata": {},
   "source": [
    "Replace the origin column with these new columns\n",
    "\n",
    "*Pro Tip*: [Pandas](https://pandas.pydata.org/) makes working with tabular data in Python very easy. If you are about to write a loop to operate on tabular data, check to see if Pandas already has a function for what you're trying to do. Pandas makes your code much faster and easier to read/maintain. Start with the excellent [10 Minutes to Pandas](https://pandas.pydata.org/pandas-docs/stable/getting_started/10min.html)."
   ]
  },
  {
   "cell_type": "code",
   "execution_count": 7,
   "metadata": {},
   "outputs": [],
   "source": [
    "data = pd.concat([data, new_origin], axis=1)"
   ]
  },
  {
   "cell_type": "code",
   "execution_count": 8,
   "metadata": {},
   "outputs": [],
   "source": [
    "data.drop('Origin', axis=1, inplace=True)"
   ]
  },
  {
   "cell_type": "code",
   "execution_count": 9,
   "metadata": {},
   "outputs": [
    {
     "data": {
      "text/html": [
       "<div>\n",
       "<style scoped>\n",
       "    .dataframe tbody tr th:only-of-type {\n",
       "        vertical-align: middle;\n",
       "    }\n",
       "\n",
       "    .dataframe tbody tr th {\n",
       "        vertical-align: top;\n",
       "    }\n",
       "\n",
       "    .dataframe thead th {\n",
       "        text-align: right;\n",
       "    }\n",
       "</style>\n",
       "<table border=\"1\" class=\"dataframe\">\n",
       "  <thead>\n",
       "    <tr style=\"text-align: right;\">\n",
       "      <th></th>\n",
       "      <th>MPG</th>\n",
       "      <th>Cylinders</th>\n",
       "      <th>Displacement</th>\n",
       "      <th>Horsepower</th>\n",
       "      <th>Weight</th>\n",
       "      <th>Acceleration</th>\n",
       "      <th>Model Year</th>\n",
       "      <th>Origin_1</th>\n",
       "      <th>Origin_2</th>\n",
       "      <th>Origin_3</th>\n",
       "    </tr>\n",
       "  </thead>\n",
       "  <tbody>\n",
       "    <tr>\n",
       "      <th>0</th>\n",
       "      <td>18.0</td>\n",
       "      <td>8</td>\n",
       "      <td>307.0</td>\n",
       "      <td>130.0</td>\n",
       "      <td>3504.0</td>\n",
       "      <td>12.0</td>\n",
       "      <td>70</td>\n",
       "      <td>1</td>\n",
       "      <td>0</td>\n",
       "      <td>0</td>\n",
       "    </tr>\n",
       "    <tr>\n",
       "      <th>1</th>\n",
       "      <td>15.0</td>\n",
       "      <td>8</td>\n",
       "      <td>350.0</td>\n",
       "      <td>165.0</td>\n",
       "      <td>3693.0</td>\n",
       "      <td>11.5</td>\n",
       "      <td>70</td>\n",
       "      <td>1</td>\n",
       "      <td>0</td>\n",
       "      <td>0</td>\n",
       "    </tr>\n",
       "    <tr>\n",
       "      <th>2</th>\n",
       "      <td>18.0</td>\n",
       "      <td>8</td>\n",
       "      <td>318.0</td>\n",
       "      <td>150.0</td>\n",
       "      <td>3436.0</td>\n",
       "      <td>11.0</td>\n",
       "      <td>70</td>\n",
       "      <td>1</td>\n",
       "      <td>0</td>\n",
       "      <td>0</td>\n",
       "    </tr>\n",
       "    <tr>\n",
       "      <th>3</th>\n",
       "      <td>16.0</td>\n",
       "      <td>8</td>\n",
       "      <td>304.0</td>\n",
       "      <td>150.0</td>\n",
       "      <td>3433.0</td>\n",
       "      <td>12.0</td>\n",
       "      <td>70</td>\n",
       "      <td>1</td>\n",
       "      <td>0</td>\n",
       "      <td>0</td>\n",
       "    </tr>\n",
       "    <tr>\n",
       "      <th>4</th>\n",
       "      <td>17.0</td>\n",
       "      <td>8</td>\n",
       "      <td>302.0</td>\n",
       "      <td>140.0</td>\n",
       "      <td>3449.0</td>\n",
       "      <td>10.5</td>\n",
       "      <td>70</td>\n",
       "      <td>1</td>\n",
       "      <td>0</td>\n",
       "      <td>0</td>\n",
       "    </tr>\n",
       "  </tbody>\n",
       "</table>\n",
       "</div>"
      ],
      "text/plain": [
       "    MPG  Cylinders  Displacement  Horsepower  Weight  Acceleration  \\\n",
       "0  18.0          8         307.0       130.0  3504.0          12.0   \n",
       "1  15.0          8         350.0       165.0  3693.0          11.5   \n",
       "2  18.0          8         318.0       150.0  3436.0          11.0   \n",
       "3  16.0          8         304.0       150.0  3433.0          12.0   \n",
       "4  17.0          8         302.0       140.0  3449.0          10.5   \n",
       "\n",
       "   Model Year  Origin_1  Origin_2  Origin_3  \n",
       "0          70         1         0         0  \n",
       "1          70         1         0         0  \n",
       "2          70         1         0         0  \n",
       "3          70         1         0         0  \n",
       "4          70         1         0         0  "
      ]
     },
     "execution_count": 9,
     "metadata": {},
     "output_type": "execute_result"
    }
   ],
   "source": [
    "data.head()"
   ]
  },
  {
   "cell_type": "markdown",
   "metadata": {},
   "source": [
    "We now are going to mark which columns are inputs and outputs"
   ]
  },
  {
   "cell_type": "code",
   "execution_count": 10,
   "metadata": {},
   "outputs": [],
   "source": [
    "y_col = 'MPG'\n",
    "X_cols = data.columns[1:]"
   ]
  },
  {
   "cell_type": "markdown",
   "metadata": {},
   "source": [
    "Output is \"MPG\" and input is anything except MPG"
   ]
  },
  {
   "cell_type": "markdown",
   "metadata": {},
   "source": [
    "Another trick needed for training a Neural Network is that the input values should all be the same order of magnitude. \n",
    "As shown above, our data is not. So, we will normalize the datasets"
   ]
  },
  {
   "cell_type": "code",
   "execution_count": 11,
   "metadata": {},
   "outputs": [],
   "source": [
    "data[X_cols] = data[X_cols].apply(lambda x: (x - x.mean()) / x.std())"
   ]
  },
  {
   "cell_type": "code",
   "execution_count": 12,
   "metadata": {},
   "outputs": [
    {
     "data": {
      "text/html": [
       "<div>\n",
       "<style scoped>\n",
       "    .dataframe tbody tr th:only-of-type {\n",
       "        vertical-align: middle;\n",
       "    }\n",
       "\n",
       "    .dataframe tbody tr th {\n",
       "        vertical-align: top;\n",
       "    }\n",
       "\n",
       "    .dataframe thead th {\n",
       "        text-align: right;\n",
       "    }\n",
       "</style>\n",
       "<table border=\"1\" class=\"dataframe\">\n",
       "  <thead>\n",
       "    <tr style=\"text-align: right;\">\n",
       "      <th></th>\n",
       "      <th>MPG</th>\n",
       "      <th>Cylinders</th>\n",
       "      <th>Displacement</th>\n",
       "      <th>Horsepower</th>\n",
       "      <th>Weight</th>\n",
       "      <th>Acceleration</th>\n",
       "      <th>Model Year</th>\n",
       "      <th>Origin_1</th>\n",
       "      <th>Origin_2</th>\n",
       "      <th>Origin_3</th>\n",
       "    </tr>\n",
       "  </thead>\n",
       "  <tbody>\n",
       "    <tr>\n",
       "      <th>0</th>\n",
       "      <td>18.0</td>\n",
       "      <td>1.482053</td>\n",
       "      <td>1.075915</td>\n",
       "      <td>0.663285</td>\n",
       "      <td>0.619748</td>\n",
       "      <td>-1.283618</td>\n",
       "      <td>-1.623241</td>\n",
       "      <td>0.773608</td>\n",
       "      <td>-0.457538</td>\n",
       "      <td>-0.501749</td>\n",
       "    </tr>\n",
       "    <tr>\n",
       "      <th>1</th>\n",
       "      <td>15.0</td>\n",
       "      <td>1.482053</td>\n",
       "      <td>1.486832</td>\n",
       "      <td>1.572585</td>\n",
       "      <td>0.842258</td>\n",
       "      <td>-1.464852</td>\n",
       "      <td>-1.623241</td>\n",
       "      <td>0.773608</td>\n",
       "      <td>-0.457538</td>\n",
       "      <td>-0.501749</td>\n",
       "    </tr>\n",
       "  </tbody>\n",
       "</table>\n",
       "</div>"
      ],
      "text/plain": [
       "    MPG  Cylinders  Displacement  Horsepower    Weight  Acceleration  \\\n",
       "0  18.0   1.482053      1.075915    0.663285  0.619748     -1.283618   \n",
       "1  15.0   1.482053      1.486832    1.572585  0.842258     -1.464852   \n",
       "\n",
       "   Model Year  Origin_1  Origin_2  Origin_3  \n",
       "0   -1.623241  0.773608 -0.457538 -0.501749  \n",
       "1   -1.623241  0.773608 -0.457538 -0.501749  "
      ]
     },
     "execution_count": 12,
     "metadata": {},
     "output_type": "execute_result"
    }
   ],
   "source": [
    "data.head(2)"
   ]
  },
  {
   "cell_type": "markdown",
   "metadata": {},
   "source": [
    "Our data is now ready for training.\n",
    "A best practice for evaluating neural networks is to split data into a training and validation sets.\n",
    "When comparing different machine learning models, you should test them against data that was neither used to train the model nor select the hyperparameters of the model - the \"validation set\"."
   ]
  },
  {
   "cell_type": "code",
   "execution_count": 13,
   "metadata": {},
   "outputs": [
    {
     "name": "stdout",
     "output_type": "stream",
     "text": [
      "Training data has 352 entries\n",
      "Validation data has 40 entries\n"
     ]
    }
   ],
   "source": [
    "train_data, valid_data = train_test_split(data, test_size=0.1)\n",
    "print(f'Training data has {len(train_data)} entries')\n",
    "print(f'Validation data has {len(valid_data)} entries')"
   ]
  },
  {
   "cell_type": "markdown",
   "metadata": {},
   "source": [
    "## Quick Tutorial: Working with Keras\n",
    "Building Keras models is decomposed into three different phases: defining the architecture, setting the optimizer, and training the model. We will go through each step independentally."
   ]
  },
  {
   "cell_type": "markdown",
   "metadata": {},
   "source": [
    "### Defining an Architecture\n",
    "Keras provides a wide variety of layers that can be combined together to form complicated networks.\n",
    "We are only going to focus on the [Sequential](https://keras.io/getting-started/sequential-model-guide/) type of model for simplicity, \n",
    "but you will get to make complicated models with branches in the Generative models session later today.\n",
    "\n",
    "The Sequential model takes a list of layers to generate combine in to a single model.\n",
    "The first element must specify the shape of the input data, which is the number of features in this case.\n",
    "The last element defines the shape of the outputs and must allow for the outputs to output on the entire range of the data.\n",
    "`linear` is a good choice for regression problems"
   ]
  },
  {
   "cell_type": "code",
   "execution_count": 14,
   "metadata": {},
   "outputs": [],
   "source": [
    "model = Sequential([\n",
    "    layers.Dense(64, activation='relu', input_shape=(len(X_cols),)),\n",
    "    layers.Dense(64, activation='relu'),\n",
    "    layers.Dense(1, activation='linear')\n",
    "])"
   ]
  },
  {
   "cell_type": "markdown",
   "metadata": {},
   "source": [
    "Taking a look at the network we created"
   ]
  },
  {
   "cell_type": "code",
   "execution_count": 15,
   "metadata": {},
   "outputs": [
    {
     "name": "stdout",
     "output_type": "stream",
     "text": [
      "Shape of the input: (None, 9)\n",
      "Shape of the output: (None, 1)\n"
     ]
    }
   ],
   "source": [
    "print(f'Shape of the input: {model.input_shape}')\n",
    "print(f'Shape of the output: {model.output_shape}')"
   ]
  },
  {
   "cell_type": "markdown",
   "metadata": {},
   "source": [
    "It has an input shape of $N \\times 9$, where $N$ can be any number of training entries, and $N \\times 1$ outputs (i.e., just MPG)"
   ]
  },
  {
   "cell_type": "code",
   "execution_count": 16,
   "metadata": {},
   "outputs": [
    {
     "name": "stdout",
     "output_type": "stream",
     "text": [
      "Model: \"sequential\"\n",
      "_________________________________________________________________\n",
      "Layer (type)                 Output Shape              Param #   \n",
      "=================================================================\n",
      "dense (Dense)                (None, 64)                640       \n",
      "_________________________________________________________________\n",
      "dense_1 (Dense)              (None, 64)                4160      \n",
      "_________________________________________________________________\n",
      "dense_2 (Dense)              (None, 1)                 65        \n",
      "=================================================================\n",
      "Total params: 4,865\n",
      "Trainable params: 4,865\n",
      "Non-trainable params: 0\n",
      "_________________________________________________________________\n"
     ]
    }
   ],
   "source": [
    "model.summary()"
   ]
  },
  {
   "cell_type": "markdown",
   "metadata": {},
   "source": [
    "The model has 5 layers: an input layer (not shown), 2 hidden layers, and an output layer. "
   ]
  },
  {
   "cell_type": "markdown",
   "metadata": {},
   "source": [
    "#### Concept Review! How do we get 4865 parameters?\n",
    "Remember our simple neural network from the lecture:\n",
    "\n",
    "<img width=320px src=\"./img/simple-mlp.png\"/>\n",
    "\n",
    "_First Hidden Layer_: Each input node is connected to each node in the first hidden layer (i.e., the network is \"fully connected\"): $([\\text{9 Inputs}] + [\\text{1 Bias per Hidden Node}]) \\times [\\text{64 Hidden Nodes}] = 640\\text{ parameters}$\n",
    "\n",
    "_Second Hidden Layer_: Each node in the first hidden layer is connected to each node in the second hidden layer: $([\\text{64 hidden nodes}] + [\\text{1 Bias per Hidden Node}]) \\times [\\text{64 Hidden Nodes}] = 4160\\text{ parameters}$\n",
    "\n",
    "_Output Layer_: Each second hidden layer node is connected to the output node and that output node has a bias term: $[\\text{64 hidden nodes}] + [\\text{1 Bias}] = 65\\text{ parameters}$\n"
   ]
  },
  {
   "cell_type": "markdown",
   "metadata": {},
   "source": [
    "### Training a Model\n",
    "The first step to train a model is to \"compile\" it.\n",
    "Compiling defines the optimizer and the loss function for the network."
   ]
  },
  {
   "cell_type": "code",
   "execution_count": 17,
   "metadata": {},
   "outputs": [],
   "source": [
    "model.compile('adam', loss='mean_squared_error')"
   ]
  },
  {
   "cell_type": "markdown",
   "metadata": {},
   "source": [
    "We compile with the Adam optimizer and using a mean squared error loss.\n",
    "Note that you can define more settings for these optimizers by creating the optimizer as an object."
   ]
  },
  {
   "cell_type": "code",
   "execution_count": 18,
   "metadata": {},
   "outputs": [],
   "source": [
    "adam = keras.optimizers.Adam(lr=1e-3)\n",
    "model.compile(adam, loss=keras.metrics.mean_squared_error)"
   ]
  },
  {
   "cell_type": "markdown",
   "metadata": {},
   "source": [
    "The model is ready to be trained once you compile it.\n",
    "\n",
    "The `fit` operation, like its analogue in scikit-learn, takes the inputs and outputs for the training data as arguments.\n",
    "It also has many other options specific to neural networks, such as the \"batch size\" (see later module) and a \"validation split.\" \n",
    "\n",
    "Validation sets are a very important tool in Neural Networks as they help determine if the model is overfitting during the training process."
   ]
  },
  {
   "cell_type": "code",
   "execution_count": 19,
   "metadata": {},
   "outputs": [
    {
     "name": "stdout",
     "output_type": "stream",
     "text": [
      "Train on 316 samples, validate on 36 samples\n",
      "Epoch 1/8\n",
      "316/316 [==============================] - 4s 13ms/sample - loss: 600.1063 - val_loss: 589.6886\n",
      "Epoch 2/8\n",
      "316/316 [==============================] - 0s 630us/sample - loss: 562.5415 - val_loss: 552.9458\n",
      "Epoch 3/8\n",
      "316/316 [==============================] - 0s 149us/sample - loss: 526.4414 - val_loss: 512.3054\n",
      "Epoch 4/8\n",
      "316/316 [==============================] - 0s 142us/sample - loss: 481.9252 - val_loss: 459.2822\n",
      "Epoch 5/8\n",
      "316/316 [==============================] - 0s 133us/sample - loss: 424.4643 - val_loss: 390.3710\n",
      "Epoch 6/8\n",
      "316/316 [==============================] - 0s 149us/sample - loss: 352.1216 - val_loss: 306.6531\n",
      "Epoch 7/8\n",
      "316/316 [==============================] - 0s 142us/sample - loss: 268.5784 - val_loss: 213.8291\n",
      "Epoch 8/8\n",
      "316/316 [==============================] - 0s 142us/sample - loss: 180.3298 - val_loss: 126.0676\n"
     ]
    }
   ],
   "source": [
    "history = model.fit(train_data[X_cols], train_data[y_col], batch_size=32, validation_split=0.1, epochs=8)"
   ]
  },
  {
   "cell_type": "markdown",
   "metadata": {},
   "source": [
    "The `history` object returned by the fit function contains details about the training process."
   ]
  },
  {
   "cell_type": "code",
   "execution_count": 20,
   "metadata": {},
   "outputs": [
    {
     "data": {
      "text/plain": [
       "<matplotlib.legend.Legend at 0x277fac70948>"
      ]
     },
     "execution_count": 20,
     "metadata": {},
     "output_type": "execute_result"
    },
    {
     "data": {
      "image/png": "[encoded data removed]",
      "text/plain": [
       "<Figure size 252x180 with 1 Axes>"
      ]
     },
     "metadata": {
      "needs_background": "light"
     },
     "output_type": "display_data"
    }
   ],
   "source": [
    "fig, ax = plt.subplots()\n",
    "\n",
    "ax.plot(history.epoch, history.history['loss'], label='Training Loss')\n",
    "ax.plot(history.epoch, history.history['val_loss'], label='Validation Loss', linestyle='--')\n",
    "\n",
    "fig.set_size_inches(3.5, 2.5)\n",
    "ax.set_xlabel('Epoch')\n",
    "ax.set_ylabel('Loss ($MPG^2$)')\n",
    "ax.legend()"
   ]
  },
  {
   "cell_type": "markdown",
   "metadata": {},
   "source": [
    "The loss for both the training data and the validation are both decreasing with epoch, which means our model is training correctly!"
   ]
  },
  {
   "cell_type": "markdown",
   "metadata": {},
   "source": [
    "### Running the Model\n",
    "Now that our model is trained, we can use it to predict the properties of the validation set we held out with the predict option."
   ]
  },
  {
   "cell_type": "code",
   "execution_count": 21,
   "metadata": {},
   "outputs": [],
   "source": [
    "pred_y = model.predict(valid_data[X_cols])"
   ]
  },
  {
   "cell_type": "code",
   "execution_count": 22,
   "metadata": {},
   "outputs": [
    {
     "data": {
      "text/plain": [
       "Text(0, 0.5, 'Predicted MPG')"
      ]
     },
     "execution_count": 22,
     "metadata": {},
     "output_type": "execute_result"
    },
    {
     "data": {
      "image/png": "[encoded data removed]",
      "text/plain": [
       "<Figure size 252x252 with 1 Axes>"
      ]
     },
     "metadata": {
      "needs_background": "light"
     },
     "output_type": "display_data"
    }
   ],
   "source": [
    "fig, ax = plt.subplots()\n",
    "\n",
    "ax.scatter(valid_data[y_col], pred_y)\n",
    "\n",
    "ax.set_xlim(0, max(valid_data[y_col].max(), pred_y.max()) + 5)\n",
    "ax.set_ylim(ax.get_xlim())\n",
    "\n",
    "ax.plot(ax.get_xlim(), ax.get_xlim(), 'k--')\n",
    "\n",
    "fig.set_size_inches(3.5, 3.5)\n",
    "ax.set_xlabel('Actual MPG')\n",
    "ax.set_ylabel('Predicted MPG')"
   ]
  },
  {
   "cell_type": "markdown",
   "metadata": {},
   "source": [
    "Admittedly, the fitness is not very good. But, we only trained for 8 epochs."
   ]
  },
  {
   "cell_type": "markdown",
   "metadata": {},
   "source": [
    "## Part 1: Overfitting a Neural Network\n",
    "A key problem with neural networks is that the more you train them, the more likely they are to become overfit.\n",
    "In this part, we need you to create a neural network and overfit it.\n",
    "\n",
    "<font color='red'>Step 1: Make a neural network with 3 hidden layers of 128 elements per hidden layer each and ReLU activations.</font>"
   ]
  },
  {
   "cell_type": "code",
   "execution_count": 23,
   "metadata": {},
   "outputs": [],
   "source": []
  },
  {
   "cell_type": "markdown",
   "metadata": {},
   "source": [
    "<font color='white'>\n",
    "model = Sequential([\n",
    "    layers.Dense(128, activation='relu', input_shape=(len(X_cols),)),\n",
    "    layers.Dense(128, activation='relu'),\n",
    "    layers.Dense(128, activation='relu'),\n",
    "    layers.Dense(1, activation='relu')\n",
    "])\n",
    "</font>"
   ]
  },
  {
   "cell_type": "code",
   "execution_count": 24,
   "metadata": {},
   "outputs": [],
   "source": [
    "assert model.count_params() == 34433"
   ]
  },
  {
   "cell_type": "markdown",
   "metadata": {},
   "source": [
    "<font color='red'>Fit the model with a batch size of 32 for 1024 epochs with a hold out set of 10%. Use Adam with the default settings and mean squared error loss. Save the history as a variable named `history`</font>\n",
    "\n",
    "*Pro Tip*: Keras produces a lot of status messages with its default `verbose` setting of the `fit` function. Consider using `verbose=0` to turn it off if that bothers you."
   ]
  },
  {
   "cell_type": "code",
   "execution_count": 25,
   "metadata": {},
   "outputs": [],
   "source": []
  },
  {
   "cell_type": "markdown",
   "metadata": {},
   "source": [
    "<font color=\"white\">\n",
    "model.compile('adam', 'mean_squared_error')\n",
    "history = model.fit(train_data[X_cols], train_data[y_col], batch_size=32, validation_split=0.1, verbose=0, epochs=1024)\n",
    "</font>"
   ]
  },
  {
   "cell_type": "markdown",
   "metadata": {},
   "source": [
    "Plot the loss as a function of the number of epochs"
   ]
  },
  {
   "cell_type": "code",
   "execution_count": 26,
   "metadata": {},
   "outputs": [
    {
     "data": {
      "text/plain": [
       "<matplotlib.legend.Legend at 0x27806daff48>"
      ]
     },
     "execution_count": 26,
     "metadata": {},
     "output_type": "execute_result"
    },
    {
     "data": {
      "image/png": "[encoded data removed]",
      "text/plain": [
       "<Figure size 252x180 with 1 Axes>"
      ]
     },
     "metadata": {
      "needs_background": "light"
     },
     "output_type": "display_data"
    }
   ],
   "source": [
    "fig, ax = plt.subplots()\n",
    "\n",
    "ax.semilogy(history.epoch, history.history['loss'], label='Training Loss')\n",
    "ax.plot(history.epoch, history.history['val_loss'], label='Validation Loss', linestyle='--')\n",
    "\n",
    "fig.set_size_inches(3.5, 2.5)\n",
    "ax.set_xlabel('Epoch')\n",
    "ax.set_ylabel('Loss ($MPG^2$)')\n",
    "ax.legend()"
   ]
  },
  {
   "cell_type": "markdown",
   "metadata": {},
   "source": [
    "Note how the validation loss stops decreasing around the 50th epoch and then increases. \n",
    "This is overfitting.\n",
    "The network is continuing to get better at predicting the training data at the expense of being generalizable to other data"
   ]
  },
  {
   "cell_type": "code",
   "execution_count": 27,
   "metadata": {},
   "outputs": [
    {
     "name": "stdout",
     "output_type": "stream",
     "text": [
      "Mean absolute error on held-out set:  2.11 MPG\n"
     ]
    }
   ],
   "source": [
    "pred_y = model.predict(valid_data[X_cols])\n",
    "overfit_score = mean_absolute_error(valid_data[y_col], pred_y)\n",
    "print(f'Mean absolute error on held-out set: {overfit_score : 0.2f} MPG')"
   ]
  },
  {
   "cell_type": "code",
   "execution_count": 28,
   "metadata": {},
   "outputs": [
    {
     "data": {
      "text/plain": [
       "Text(0, 0.5, 'Predicted MPG')"
      ]
     },
     "execution_count": 28,
     "metadata": {},
     "output_type": "execute_result"
    },
    {
     "data": {
      "image/png": "[encoded data removed]",
      "text/plain": [
       "<Figure size 252x252 with 1 Axes>"
      ]
     },
     "metadata": {
      "needs_background": "light"
     },
     "output_type": "display_data"
    }
   ],
   "source": [
    "fig, ax = plt.subplots()\n",
    "\n",
    "ax.scatter(valid_data[y_col], pred_y)\n",
    "\n",
    "ax.set_xlim(0, max(valid_data[y_col].max(), pred_y.max()) + 5)\n",
    "ax.set_ylim(ax.get_xlim())\n",
    "\n",
    "ax.plot(ax.get_xlim(), ax.get_xlim(), 'k--')\n",
    "\n",
    "fig.set_size_inches(3.5, 3.5)\n",
    "ax.set_xlabel('Actual MPG')\n",
    "ax.set_ylabel('Predicted MPG')"
   ]
  },
  {
   "cell_type": "markdown",
   "metadata": {},
   "source": [
    "The model does predict better than when we trained with only 8 epochs, but we can do better"
   ]
  },
  {
   "cell_type": "markdown",
   "metadata": {},
   "source": [
    "## <font color='red'>Part 2: Preventing Overfitting with Early Stopping</font>\n",
    "Early stopping is the idea that you detect when the error on the validation set is increasing and roll back to the network state with the best valiation error."
   ]
  },
  {
   "cell_type": "markdown",
   "metadata": {},
   "source": [
    "#### Quick Tutorial: Pre-trained Models\n",
    "If you were to call the `fit` method again, the Keras model will resume training from its previous state.\n",
    "This is a nice feature if you need to restart a training from a saved checkpoint or using the weights from another model for pretraining (which we will dicuss in a later tutorial).\n",
    "However, it interferes with the lesson on early stopping we want here.\n",
    "\n",
    "So, we are going to make a new model before training.\n",
    "To make this more convenient, we are going to make a function that generates a Keras model so to avoid having to write out the architecture each time.\n",
    "\n",
    "*Pro Tip*: Making these \"model building functions\" can save you a lot of time when testing new architectures."
   ]
  },
  {
   "cell_type": "code",
   "execution_count": 29,
   "metadata": {},
   "outputs": [],
   "source": [
    "def build_model(n_layers=3, hidden_size=128):\n",
    "    model = Sequential([layers.Dense(hidden_size, activation='relu', input_shape=(len(X_cols),))])\n",
    "    \n",
    "    for i in range(n_layers-1):\n",
    "        model.add(layers.Dense(hidden_size, activation='relu'))\n",
    "        \n",
    "    model.add(layers.Dense(1, activation='linear'))\n",
    "    return model"
   ]
  },
  {
   "cell_type": "code",
   "execution_count": 30,
   "metadata": {},
   "outputs": [],
   "source": [
    "model = build_model()"
   ]
  },
  {
   "cell_type": "code",
   "execution_count": 31,
   "metadata": {},
   "outputs": [],
   "source": [
    "model.compile('adam', 'mean_squared_error')"
   ]
  },
  {
   "cell_type": "markdown",
   "metadata": {},
   "source": [
    "### Creating the Callback\n",
    "Keras implement early stopping using a \"callback.\"\n",
    "Callback functions by performing an operation (e.g., assessing validation loss) at different points of the model training.\n",
    "In our case, we will use the [`EarlyStopping`](https://keras.io/callbacks/#earlystopping) callback, which is one of many [available in Keras](https://keras.io/callbacks/)"
   ]
  },
  {
   "cell_type": "code",
   "execution_count": 32,
   "metadata": {},
   "outputs": [],
   "source": [
    "callbacks = [keras.callbacks.EarlyStopping(restore_best_weights=True, patience=25)]"
   ]
  },
  {
   "cell_type": "markdown",
   "metadata": {},
   "source": [
    "The callback we defined will stop only if the validation loss does not improve after 25 epochs and will restore the state of the model at the point with lowest loss. We use the callbacks when calling the fit operation."
   ]
  },
  {
   "cell_type": "markdown",
   "metadata": {},
   "source": [
    "<font color='red'>Train the model using the same batch size, but now add the early-stopping callback. Store the result in `history`"
   ]
  },
  {
   "cell_type": "code",
   "execution_count": 33,
   "metadata": {},
   "outputs": [],
   "source": [
    "history = model.fit(train_data[X_cols], train_data[y_col], batch_size=32, validation_split=0.1, verbose=0, epochs=256, callbacks=callbacks)"
   ]
  },
  {
   "cell_type": "markdown",
   "metadata": {},
   "source": [
    "<font color='white'>history = model.fit(train_data[X_cols], train_data[y_col], batch_size=32, validation_split=0.1, verbose=0, epochs=256, callbacks=callbacks)</font>"
   ]
  },
  {
   "cell_type": "markdown",
   "metadata": {},
   "source": [
    "The following cells will plot your results"
   ]
  },
  {
   "cell_type": "code",
   "execution_count": 34,
   "metadata": {},
   "outputs": [
    {
     "data": {
      "text/plain": [
       "<matplotlib.legend.Legend at 0x27806f37e08>"
      ]
     },
     "execution_count": 34,
     "metadata": {},
     "output_type": "execute_result"
    },
    {
     "data": {
      "image/png": "[encoded data removed]",
      "text/plain": [
       "<Figure size 252x180 with 1 Axes>"
      ]
     },
     "metadata": {
      "needs_background": "light"
     },
     "output_type": "display_data"
    }
   ],
   "source": [
    "fig, ax = plt.subplots()\n",
    "\n",
    "ax.semilogy(history.epoch, history.history['loss'], label='Training Loss')\n",
    "ax.plot(history.epoch, history.history['val_loss'], label='Validation Loss', linestyle='--')\n",
    "\n",
    "fig.set_size_inches(3.5, 2.5)\n",
    "ax.set_xlabel('Epoch')\n",
    "ax.set_ylabel('Loss ($MPG^2$)')\n",
    "ax.legend()"
   ]
  },
  {
   "cell_type": "markdown",
   "metadata": {},
   "source": [
    "The model now stops training at around 60 epochs."
   ]
  },
  {
   "cell_type": "code",
   "execution_count": 35,
   "metadata": {},
   "outputs": [],
   "source": [
    "assert len(history.epoch) < 256  # Model should stop training before 256 epochs"
   ]
  },
  {
   "cell_type": "code",
   "execution_count": 36,
   "metadata": {},
   "outputs": [
    {
     "name": "stdout",
     "output_type": "stream",
     "text": [
      "Mean absolute error on held-out set:  1.59 MPG\n"
     ]
    }
   ],
   "source": [
    "pred_y = model.predict(valid_data[X_cols])\n",
    "earlystop_score = mean_absolute_error(valid_data[y_col], pred_y)\n",
    "print(f'Mean absolute error on held-out set: {earlystop_score : 0.2f} MPG')"
   ]
  },
  {
   "cell_type": "code",
   "execution_count": 37,
   "metadata": {},
   "outputs": [],
   "source": [
    "assert earlystop_score < overfit_score"
   ]
  },
  {
   "cell_type": "code",
   "execution_count": 38,
   "metadata": {},
   "outputs": [
    {
     "data": {
      "text/plain": [
       "Text(0, 0.5, 'Predicted MPG')"
      ]
     },
     "execution_count": 38,
     "metadata": {},
     "output_type": "execute_result"
    },
    {
     "data": {
      "image/png": "[encoded data removed]",
      "text/plain": [
       "<Figure size 252x252 with 1 Axes>"
      ]
     },
     "metadata": {
      "needs_background": "light"
     },
     "output_type": "display_data"
    }
   ],
   "source": [
    "fig, ax = plt.subplots()\n",
    "\n",
    "ax.scatter(valid_data[y_col], pred_y)\n",
    "\n",
    "ax.set_xlim(0, max(valid_data[y_col].max(), pred_y.max()) + 5)\n",
    "ax.set_ylim(ax.get_xlim())\n",
    "\n",
    "ax.plot(ax.get_xlim(), ax.get_xlim(), 'k--')\n",
    "\n",
    "fig.set_size_inches(3.5, 3.5)\n",
    "ax.set_xlabel('Actual MPG')\n",
    "ax.set_ylabel('Predicted MPG')"
   ]
  },
  {
   "cell_type": "markdown",
   "metadata": {},
   "source": [
    "The performance should be better than when you ran the network to its full number of epochs.\n",
    "\n",
    "Early stopping is one of the many approaches to preventing overfitting. Some other techniques include:\n",
    "\n",
    "- Reduce the model complexity\n",
    "- Employ [Dropout](https://keras.io/layers/core/#dropout) layers, which randomly drop connections in the neural network during training. \n",
    "- Using [regularization](https://keras.io/regularizers/), which ensures the weights do not become too large"
   ]
  },
  {
   "cell_type": "markdown",
   "metadata": {},
   "source": [
    "### <font color='red'>Part 3: Learning Rates and Batch Sizes</font>\n",
    "The learning rate and batch sizes both control how the weights of the network are updated during training. \n",
    "Learning rate corresponds to the size of updates that are used when training the network, and batch size determines how many training entries are used to determine the direction of the update.\n",
    "These numbers are important to be able to tune as they control how quickly a network trains and, potentially, how accurate the resulting model will be.\n",
    "\n",
    "First we create Callback tool to track elapsed time, etc."
   ]
  },
  {
   "cell_type": "code",
   "execution_count": 39,
   "metadata": {},
   "outputs": [],
   "source": [
    "class PerformanceCallback(keras.callbacks.Callback):\n",
    "    \n",
    "    def __init__(self):\n",
    "        self.start_time = None\n",
    "        self.grad_updates = None\n",
    "    \n",
    "    def on_train_begin(self, logs=None):\n",
    "        self.start_time = perf_counter()\n",
    "        self.grad_updates = 0\n",
    "        \n",
    "    def on_batch_begin(self, batch, logs=None):\n",
    "        self.grad_updates += 1\n",
    "        \n",
    "    def on_epoch_end(self, epoch, logs=None):\n",
    "        if logs:\n",
    "            logs['elapsed_time'] = perf_counter() - self.start_time\n",
    "            logs['grad_updates'] = self.grad_updates\n",
    "perf = PerformanceCallback()"
   ]
  },
  {
   "cell_type": "code",
   "execution_count": 40,
   "metadata": {},
   "outputs": [],
   "source": [
    "callbacks = [perf]"
   ]
  },
  {
   "cell_type": "markdown",
   "metadata": {},
   "source": [
    "### Exploring the Effect of Batch Size\n",
    "Here, we do a gradient update for each training entry. We are not using a validation set, as the point of this exercise is to see the training accuracy change"
   ]
  },
  {
   "cell_type": "code",
   "execution_count": 41,
   "metadata": {},
   "outputs": [],
   "source": [
    "model = build_model()  # Remember to reset the model!\n",
    "model.compile('adam', 'mean_squared_error')\n",
    "b1_history = model.fit(train_data[X_cols], train_data[y_col], batch_size=1, callbacks=callbacks, verbose=0, epochs=16)"
   ]
  },
  {
   "cell_type": "markdown",
   "metadata": {},
   "source": [
    "The history now contains elapsed time"
   ]
  },
  {
   "cell_type": "code",
   "execution_count": 42,
   "metadata": {},
   "outputs": [
    {
     "data": {
      "text/plain": [
       "dict_keys(['loss', 'elapsed_time', 'grad_updates'])"
      ]
     },
     "execution_count": 42,
     "metadata": {},
     "output_type": "execute_result"
    }
   ],
   "source": [
    "b1_history.history.keys()"
   ]
  },
  {
   "cell_type": "markdown",
   "metadata": {},
   "source": [
    "<font color='red'>Run a batch size of 32, and compare the results in both the learning rate over epochs and over time. Store result as a variable named `b32_history`.</font>"
   ]
  },
  {
   "cell_type": "code",
   "execution_count": 43,
   "metadata": {},
   "outputs": [],
   "source": []
  },
  {
   "cell_type": "markdown",
   "metadata": {},
   "source": [
    "<font color='white'>\n",
    "model = build_model()  # Remember to reset the model!\n",
    "model.compile('adam', 'mean_squared_error')\n",
    "b32_history = model.fit(train_data[X_cols], train_data[y_col], batch_size=32, callbacks=callbacks, verbose=0, epochs=16)\n",
    "</font>"
   ]
  },
  {
   "cell_type": "code",
   "execution_count": 44,
   "metadata": {},
   "outputs": [
    {
     "data": {
      "text/plain": [
       "Text(0, 0.5, 'Loss')"
      ]
     },
     "execution_count": 44,
     "metadata": {},
     "output_type": "execute_result"
    },
    {
     "data": {
      "image/png": "[encoded data removed]",
      "text/plain": [
       "<Figure size 468x180 with 2 Axes>"
      ]
     },
     "metadata": {
      "needs_background": "light"
     },
     "output_type": "display_data"
    }
   ],
   "source": [
    "fig, ax = plt.subplots(1, 2, sharey=True)\n",
    "\n",
    "ax[0].semilogy(b1_history.epoch, b1_history.history['loss'], color='red', label='b = 1')\n",
    "ax[0].semilogy(b32_history.epoch, b32_history.history['loss'], color='blue', label='b = 32')\n",
    "ax[0].set_xlabel('Epoch')\n",
    "\n",
    "ax[1].semilogy(b1_history.history['elapsed_time'], b1_history.history['loss'], color='red', label='b = 1')\n",
    "ax[1].semilogy(b32_history.history['elapsed_time'], b32_history.history['loss'], color='blue', label='b = 32')\n",
    "ax[1].set_xlabel('Elapsed Time')\n",
    "\n",
    "fig.set_size_inches(6.5, 2.5)\n",
    "ax[0].legend()\n",
    "ax[0].set_ylabel('Loss')"
   ]
  },
  {
   "cell_type": "markdown",
   "metadata": {},
   "source": [
    "You should find that the model with the small batch size reaches low losses in fewer epochs, but that it also takes much longer to train.\n",
    "Two factors make this model longer to train:\n",
    "\n",
    "1. The small batch size is doing a larger number of gradient updates (i.e., more work)\n",
    "2. The GPU is not fully utilized by a batch size of 1.\n",
    "\n",
    "Regarding point 2: Modern CPUs and GPUs perform array/vector calculations in parallel. For example, multiple multiplication and addition operations of each matrix multiplication during nueral network training are performed at the same time. GPUs, in particular, posses the ability to do thousands of operations concurrently and, therefore, require large matrices to fully utilize. Practically, this means you need larger batch sizes.\n",
    "\n",
    "To put some hard numbers: A GTX 670 GPU performs 240 gradient updates per second with a batch size of 1 and 220 per second with a batch size of 32, despite the \"math operations per gradient update\" being roughly 32x larger."
   ]
  },
  {
   "cell_type": "markdown",
   "metadata": {},
   "source": [
    "### <font color='red'>Explore Learning Rate</font>\n",
    "\n",
    "Learning rate is another key parameter to adjust. Train a model with a very large learning rate (1e10) and a very small one (1e-10). What happens? How can you explain this?"
   ]
  },
  {
   "cell_type": "code",
   "execution_count": null,
   "metadata": {},
   "outputs": [],
   "source": []
  }
 ],
 "metadata": {
  "kernelspec": {
   "display_name": "Python 3",
   "language": "python",
   "name": "python3"
  },
  "language_info": {
   "codemirror_mode": {
    "name": "ipython",
    "version": 3
   },
   "file_extension": ".py",
   "mimetype": "text/x-python",
   "name": "python",
   "nbconvert_exporter": "python",
   "pygments_lexer": "ipython3",
   "version": "3.7.9"
  }
 },
 "nbformat": 4,
 "nbformat_minor": 4
}
