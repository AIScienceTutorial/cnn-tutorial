{
 "cells": [
  {
   "cell_type": "markdown",
   "metadata": {},
   "source": [
    "# Exercise 1: Digit Classification with CNNs and DNNs\n",
    "The [MNIST dataset](https://en.wikipedia.org/wiki/MNIST_database) is a database of hand-written digits matched with their actual value that has been exceedingly well used by the machine learning community. It is large and easily describable, which makes it a great example for learning to use convolutional neural networks.\n",
    "\n",
    "This exercise draws extensively from [Keras tutorials](https://github.com/keras-team/keras/blob/master/examples).\n",
    "\n",
    "This notebook contains many sections that are filled out for you and many that you will need to fill out to complete the exercise (marked in <font color='red'>RED</font>). You are finished when \"Restarting and Run All Cells\" executes the entire notebook without producing any errors. Do not remove assert statements.\n",
    "\n",
    "If you get stuck, the correct code is in the cell below. Highlight the text to see it. Example: <font color='white'>print('Hello!')</font>"
   ]
  },
  {
   "cell_type": "code",
   "execution_count": 1,
   "metadata": {},
   "outputs": [],
   "source": [
    "%matplotlib inline\n",
    "from matplotlib import pyplot as plt\n",
    "from sklearn.metrics import accuracy_score, log_loss\n",
    "from tensorflow.keras import optimizers as opt\n",
    "from tensorflow.keras.datasets import mnist\n",
    "from tensorflow.keras import Sequential\n",
    "from tensorflow.keras import layers\n",
    "from tensorflow.keras import backend as K\n",
    "from tensorflow import keras\n",
    "from time import perf_counter\n",
    "from math import isclose\n",
    "import tensorflow as tf\n",
    "\n",
    "import pandas as pd\n",
    "import numpy as np\n",
    "import warnings\n",
    "np.random.seed(1)"
   ]
  },
  {
   "cell_type": "markdown",
   "metadata": {},
   "source": [
    "## Load Data\n",
    "The MNIST data is easily accessible from Keras and needs a little bit of preprocessing before it is useful."
   ]
  },
  {
   "cell_type": "code",
   "execution_count": 2,
   "metadata": {},
   "outputs": [
    {
     "name": "stdout",
     "output_type": "stream",
     "text": [
      "Input data shape: (60000, 28, 28)\n",
      "Output data shape: (60000,)\n"
     ]
    }
   ],
   "source": [
    "# the data, split between train and test sets\n",
    "(x_train, y_train), (x_test, y_test) = mnist.load_data()\n",
    "print(f'Input data shape: {x_train.shape}')\n",
    "print(f'Output data shape: {y_train.shape}')"
   ]
  },
  {
   "cell_type": "markdown",
   "metadata": {},
   "source": [
    "The data is returned as 60000 28x28 images.\n",
    "Depending on the backend for Keras, we need to turn these into either 28x28x1 or 1x28x28 images."
   ]
  },
  {
   "cell_type": "code",
   "execution_count": 3,
   "metadata": {},
   "outputs": [],
   "source": [
    "img_rows, img_cols = 28, 28"
   ]
  },
  {
   "cell_type": "code",
   "execution_count": 4,
   "metadata": {},
   "outputs": [],
   "source": [
    "if K.image_data_format() == 'channels_first':\n",
    "    x_train = x_train.reshape(x_train.shape[0], 1, img_rows, img_cols)\n",
    "    x_test = x_test.reshape(x_test.shape[0], 1, img_rows, img_cols)\n",
    "    input_shape = (1, img_rows, img_cols)\n",
    "else:\n",
    "    x_train = x_train.reshape(x_train.shape[0], img_rows, img_cols, 1)\n",
    "    x_test = x_test.reshape(x_test.shape[0], img_rows, img_cols, 1)\n",
    "    input_shape = (img_rows, img_cols, 1)"
   ]
  },
  {
   "cell_type": "code",
   "execution_count": 5,
   "metadata": {},
   "outputs": [
    {
     "name": "stdout",
     "output_type": "stream",
     "text": [
      "New data shape: (28, 28, 1)\n"
     ]
    }
   ],
   "source": [
    "print(f'New data shape: {input_shape}')"
   ]
  },
  {
   "cell_type": "markdown",
   "metadata": {},
   "source": [
    "The data are also integer values between 0 and 255. We need them as single-precision floating point numbers."
   ]
  },
  {
   "cell_type": "code",
   "execution_count": 6,
   "metadata": {},
   "outputs": [],
   "source": [
    "x_train = x_train.astype('float32')\n",
    "x_test = x_test.astype('float32')\n",
    "x_train /= 255\n",
    "x_test /= 255"
   ]
  },
  {
   "cell_type": "markdown",
   "metadata": {},
   "source": [
    "The classes are integers between 0 and 9. \n",
    "As we are treating digits as simple categories and not considering the ordering between them, we need to one-hot encode the data.\n",
    "(Recall doing this in the last exercise for the categorical input variables)"
   ]
  },
  {
   "cell_type": "code",
   "execution_count": 7,
   "metadata": {},
   "outputs": [],
   "source": [
    "num_classes = 10"
   ]
  },
  {
   "cell_type": "code",
   "execution_count": 8,
   "metadata": {},
   "outputs": [
    {
     "name": "stdout",
     "output_type": "stream",
     "text": [
      "Output for entry 0: 5\n"
     ]
    }
   ],
   "source": [
    "print(f'Output for entry 0: {y_train[0]}')"
   ]
  },
  {
   "cell_type": "code",
   "execution_count": 9,
   "metadata": {},
   "outputs": [],
   "source": [
    "y_train = keras.utils.to_categorical(y_train, num_classes)"
   ]
  },
  {
   "cell_type": "code",
   "execution_count": 10,
   "metadata": {},
   "outputs": [
    {
     "name": "stdout",
     "output_type": "stream",
     "text": [
      "New output for entry 0: [0. 0. 0. 0. 0. 1. 0. 0. 0. 0.]\n"
     ]
    }
   ],
   "source": [
    "print(f'New output for entry 0: {y_train[0]}')"
   ]
  },
  {
   "cell_type": "code",
   "execution_count": 11,
   "metadata": {},
   "outputs": [
    {
     "name": "stdout",
     "output_type": "stream",
     "text": [
      "New output data shape: (60000, 10)\n"
     ]
    }
   ],
   "source": [
    "print(f'New output data shape: {y_train.shape}')"
   ]
  },
  {
   "cell_type": "markdown",
   "metadata": {},
   "source": [
    "Alright, we are now ready to go"
   ]
  },
  {
   "cell_type": "markdown",
   "metadata": {},
   "source": [
    "## Quick Tutorial: Classification Models and Keras\n",
    "All of our previous examples have used regression models.\n",
    "So, some brief lessons on classification."
   ]
  },
  {
   "cell_type": "markdown",
   "metadata": {},
   "source": [
    "#### Scoring Classification Models\n",
    "There are [many ways to rate the quality of classification](https://scikit-learn.org/stable/modules/model_evaluation.html#classification-metrics), each with their own benefits.\n",
    "\n",
    "For example, the [False Positive Rate (FPR)](https://en.wikipedia.org/wiki/False_positive_rate) scores how often your model yields an incorrect prediction.\n",
    "FPR is good for metrics where the cost of reacting to an incorrect positive is high, but would be a poor choice when missing a detection is bad (e.g., fast screening for disease).\n",
    "\n",
    "Our digit classification challenge is simple. We just want to get as many digits correct as possible.\n",
    "Getting more \"0\"s correct is just as important as getting any other digit.\n",
    "So, for that reason, we will use accuracy as a metric."
   ]
  },
  {
   "cell_type": "code",
   "execution_count": 12,
   "metadata": {},
   "outputs": [
    {
     "data": {
      "text/plain": [
       "0.6666666666666666"
      ]
     },
     "execution_count": 12,
     "metadata": {},
     "output_type": "execute_result"
    }
   ],
   "source": [
    "accuracy_score([0, 1, 0], [0, 1, 1])"
   ]
  },
  {
   "cell_type": "markdown",
   "metadata": {},
   "source": [
    "Accuracy is great for humans to understand the quality of a model but has a big issue if it were used as a loss function: discontinuous derivates.\n",
    "\n",
    "Classification models produce probabilities of an entry (e.g., an image) being in a certain category (e.g., a certain digit) and accuracy scores do not use them well.\n",
    "Small changes in predictions for the probabilities of each entry can lead to step changes in the accuracy.\n",
    "Step changes lead to infinite gradients, which causes problems with gradient decent optimization.\n",
    "\n",
    "So, instead, we use \"log-loss\" or \"categorical cross entry.\" \n",
    "Log-loss has smooth derivates for all changes in probability, which is good for neural network optimization.\n",
    "It also has a nice trait that predictions that are not just correct but more confidently-correct are given better (lower) scores.\n",
    "Ther are other classification quality metrics that have these properties, but log-loss is what we will use today."
   ]
  },
  {
   "cell_type": "code",
   "execution_count": 13,
   "metadata": {},
   "outputs": [
    {
     "data": {
      "text/plain": [
       "True"
      ]
     },
     "execution_count": 13,
     "metadata": {},
     "output_type": "execute_result"
    }
   ],
   "source": [
    "log_loss([0], [[0.6, 0.4]], labels=[0, 1]) > log_loss([0], [[0.7, 0.3]], labels=[0, 1])"
   ]
  },
  {
   "cell_type": "markdown",
   "metadata": {},
   "source": [
    "#### Classification Layers and Keras\n",
    "As you will see, special activation functions are needed for performing classification in Keras.\n",
    "\n",
    "- `softmax` is a good choice for multi-class (i.e., more than 2 classes) classification problem. \n",
    "  It takes a vector of real numbers in and returns them in the range [0, 1] with a sum of 1, which looks like a probability distribution.\n",
    "- `sigmoid` is a good choice for binary classification (only 2 classes) as, like `softmax`, it produces a number on [0, 1]. But, it only takes a single number as input, which makes it simpler than `softmax` to evaluate."
   ]
  },
  {
   "cell_type": "markdown",
   "metadata": {},
   "source": [
    "Illustrating `softmax`"
   ]
  },
  {
   "cell_type": "code",
   "execution_count": 14,
   "metadata": {},
   "outputs": [],
   "source": [
    "model = Sequential([layers.Dense(10, activation='softmax', input_shape=(2,))])"
   ]
  },
  {
   "cell_type": "code",
   "execution_count": 15,
   "metadata": {},
   "outputs": [],
   "source": [
    "output = model.predict(np.array([[-1, 2]]))  # Not trained, so the outputs are meaningless"
   ]
  },
  {
   "cell_type": "code",
   "execution_count": 16,
   "metadata": {},
   "outputs": [
    {
     "name": "stdout",
     "output_type": "stream",
     "text": [
      "Note that all numebrs are between 0 and 1: [[0.01634549 0.25011343 0.07079231 0.01141161 0.2034941  0.12232955\n",
      "  0.19988851 0.04452909 0.06790058 0.01319528]]\n"
     ]
    }
   ],
   "source": [
    "print('Note that all numebrs are between 0 and 1:', output)"
   ]
  },
  {
   "cell_type": "code",
   "execution_count": 17,
   "metadata": {},
   "outputs": [
    {
     "name": "stdout",
     "output_type": "stream",
     "text": [
      "And they have a sum of 1 (or close to it):  1.0\n"
     ]
    }
   ],
   "source": [
    "print('And they have a sum of 1 (or close to it): ', output.sum())"
   ]
  },
  {
   "cell_type": "markdown",
   "metadata": {},
   "source": [
    "## Part 1: Train a Fully Connected Neural Network\n",
    "We will train a simple, fully connected neural network (FCNN) as a benchmark using the Keras `Sequential` model.\n",
    "\n",
    "The [`Sequential` model](https://keras.io/getting-started/sequential-model-guide/) is designed for simple neural networks where the inputs one layer feed in to the outputs of the next.\n",
    "Our FCNN will start with a [Flatten](https://keras.io/layers/core/#flatten) layer to shape the data from a Nx28x28x1 array to a Nx784 array.\n",
    "Then, we will use 20 fully-connected (dense) layers to form a neural network.\n",
    "The network ends with a `softmax` layer with 10 outputs."
   ]
  },
  {
   "cell_type": "code",
   "execution_count": 18,
   "metadata": {},
   "outputs": [],
   "source": [
    "model = Sequential()\n",
    "model.add(layers.Flatten(input_shape=(28, 28, 1)))  # Telling Keras what size image to expect"
   ]
  },
  {
   "cell_type": "code",
   "execution_count": 19,
   "metadata": {},
   "outputs": [],
   "source": [
    "model.add(layers.Dense(512, activation='relu'))\n",
    "model.add(layers.Dense(512, activation='relu'))\n",
    "model.add(layers.Dense(num_classes, activation='softmax'))"
   ]
  },
  {
   "cell_type": "code",
   "execution_count": 20,
   "metadata": {},
   "outputs": [
    {
     "name": "stdout",
     "output_type": "stream",
     "text": [
      "Model: \"sequential_1\"\n",
      "_________________________________________________________________\n",
      "Layer (type)                 Output Shape              Param #   \n",
      "=================================================================\n",
      "flatten (Flatten)            (None, 784)               0         \n",
      "_________________________________________________________________\n",
      "dense_1 (Dense)              (None, 512)               401920    \n",
      "_________________________________________________________________\n",
      "dense_2 (Dense)              (None, 512)               262656    \n",
      "_________________________________________________________________\n",
      "dense_3 (Dense)              (None, 10)                5130      \n",
      "=================================================================\n",
      "Total params: 669,706\n",
      "Trainable params: 669,706\n",
      "Non-trainable params: 0\n",
      "_________________________________________________________________\n"
     ]
    }
   ],
   "source": [
    "model.summary()"
   ]
  },
  {
   "cell_type": "markdown",
   "metadata": {},
   "source": [
    "We now assign the model a loss function (categorical cross-entropy, which is equivalent to the log-loss described above) and select an optimizer to train it"
   ]
  },
  {
   "cell_type": "code",
   "execution_count": 21,
   "metadata": {},
   "outputs": [],
   "source": [
    "model.compile('rmsprop', 'categorical_crossentropy', metrics=['accuracy'])"
   ]
  },
  {
   "cell_type": "markdown",
   "metadata": {},
   "source": [
    "Here, we fit the model with enough epochs for it to converge and a reasonable batch size. \n",
    "The `EarlyStopping` callbacks checks if the model has not improved for a certain number of epochs and, if so, rolls back to the best network to prevent overfitting."
   ]
  },
  {
   "cell_type": "code",
   "execution_count": 22,
   "metadata": {},
   "outputs": [
    {
     "name": "stdout",
     "output_type": "stream",
     "text": [
      "Train on 54000 samples, validate on 6000 samples\n",
      "Epoch 1/512\n",
      "54000/54000 [==============================] - 9s 173us/sample - loss: 0.2121 - accuracy: 0.9352 - val_loss: 0.1311 - val_accuracy: 0.9623\n",
      "Epoch 2/512\n",
      "54000/54000 [==============================] - 8s 154us/sample - loss: 0.0854 - accuracy: 0.9748 - val_loss: 0.0813 - val_accuracy: 0.9788\n",
      "Epoch 3/512\n",
      "54000/54000 [==============================] - 9s 158us/sample - loss: 0.0609 - accuracy: 0.9822 - val_loss: 0.1173 - val_accuracy: 0.9712\n",
      "Epoch 4/512\n",
      "54000/54000 [==============================] - 9s 158us/sample - loss: 0.0468 - accuracy: 0.9871 - val_loss: 0.0930 - val_accuracy: 0.9762\n",
      "Epoch 5/512\n",
      "54000/54000 [==============================] - 9s 171us/sample - loss: 0.0371 - accuracy: 0.9898 - val_loss: 0.1076 - val_accuracy: 0.9777\n",
      "Epoch 6/512\n",
      "54000/54000 [==============================] - 9s 160us/sample - loss: 0.0311 - accuracy: 0.9914 - val_loss: 0.1121 - val_accuracy: 0.9818\n",
      "Epoch 7/512\n",
      "54000/54000 [==============================] - 9s 159us/sample - loss: 0.0265 - accuracy: 0.9929 - val_loss: 0.1145 - val_accuracy: 0.9810\n",
      "Epoch 8/512\n",
      "54000/54000 [==============================] - 9s 158us/sample - loss: 0.0213 - accuracy: 0.9943 - val_loss: 0.1236 - val_accuracy: 0.9827\n",
      "Epoch 9/512\n",
      "54000/54000 [==============================] - 9s 159us/sample - loss: 0.0203 - accuracy: 0.9949 - val_loss: 0.1473 - val_accuracy: 0.9813\n",
      "Epoch 10/512\n",
      "54000/54000 [==============================] - 9s 166us/sample - loss: 0.0167 - accuracy: 0.9954 - val_loss: 0.1293 - val_accuracy: 0.9828\n"
     ]
    },
    {
     "data": {
      "text/plain": [
       "<tensorflow.python.keras.callbacks.History at 0x23ea17b6088>"
      ]
     },
     "execution_count": 22,
     "metadata": {},
     "output_type": "execute_result"
    }
   ],
   "source": [
    "model.fit(x_train, y_train, batch_size=64, epochs=512, validation_split=0.1,\n",
    "          callbacks=[keras.callbacks.EarlyStopping(patience=8, restore_best_weights=True)])"
   ]
  },
  {
   "cell_type": "code",
   "execution_count": 23,
   "metadata": {},
   "outputs": [
    {
     "name": "stdout",
     "output_type": "stream",
     "text": [
      "Accuracy on hold-out set:  97.83%\n"
     ]
    }
   ],
   "source": [
    "dnn_accuracy = accuracy_score(model.predict_classes(x_test), y_test)\n",
    "print(f'Accuracy on hold-out set: {dnn_accuracy * 100 : .2f}%')\n",
    "assert dnn_accuracy > 0.975"
   ]
  },
  {
   "cell_type": "markdown",
   "metadata": {},
   "source": [
    "## Part 2: Make a CNN\n",
    "Now, we are going to build a simple Convolutional Neural Network to do the digit classification.\n",
    "\n",
    "But first, a quick overview of Convolution Neural Networks. \n",
    "\n",
    "The \"convolution\" part of CNN references a type of layer were you apply a \"filter\" centered on each pixel to an image.\n",
    "The filter is a function of the value of that pixel and surrounding filters.\n",
    "\n",
    "For now, let's demonstrate with a \"edge detection filter\". Our goal will be to classify the following images based on whether they contain a vertical line."
   ]
  },
  {
   "cell_type": "code",
   "execution_count": 24,
   "metadata": {},
   "outputs": [],
   "source": [
    "dataset = np.zeros((3, 3, 3, 1))\n",
    "dataset[0, :, 0] = 1\n",
    "dataset[1, :, 2] = 1\n",
    "dataset[2, 1, :] = 1"
   ]
  },
  {
   "cell_type": "code",
   "execution_count": 25,
   "metadata": {},
   "outputs": [
    {
     "data": {
      "image/png": "[encoded data removed]",
      "text/plain": [
       "<Figure size 432x288 with 3 Axes>"
      ]
     },
     "metadata": {
      "needs_background": "light"
     },
     "output_type": "display_data"
    }
   ],
   "source": [
    "fig, axs = plt.subplots(1, 3)\n",
    "\n",
    "for i, d in enumerate(dataset):\n",
    "    axs[i].imshow(np.squeeze(d), cmap='Blues')\n",
    "fig.tight_layout()"
   ]
  },
  {
   "cell_type": "markdown",
   "metadata": {},
   "source": [
    "It is certainly possible to build an FCNN that will do this task, but we can make an even simpler model using a CNN.\n",
    "First, to construct an \"edge detection filter\" in Keras"
   ]
  },
  {
   "cell_type": "code",
   "execution_count": 26,
   "metadata": {},
   "outputs": [],
   "source": [
    "v_filter = np.array([[0, 1, 0], [0, 0, 0], [0, 1, 0]])"
   ]
  },
  {
   "cell_type": "code",
   "execution_count": 27,
   "metadata": {},
   "outputs": [
    {
     "data": {
      "text/plain": [
       "array([[0, 1, 0],\n",
       "       [0, 0, 0],\n",
       "       [0, 1, 0]])"
      ]
     },
     "execution_count": 27,
     "metadata": {},
     "output_type": "execute_result"
    }
   ],
   "source": [
    "v_filter"
   ]
  },
  {
   "cell_type": "markdown",
   "metadata": {},
   "source": [
    "The filter in this case gives its maximum value if the pixels above and below a pixel are dark."
   ]
  },
  {
   "cell_type": "code",
   "execution_count": 28,
   "metadata": {},
   "outputs": [],
   "source": [
    "conv = Sequential([layers.Conv2D(filters=1, kernel_size=(3, 3), padding='same', use_bias=False, input_shape=(3, 3, 1))])  # Making a convolution layer for 2D images"
   ]
  },
  {
   "cell_type": "code",
   "execution_count": 29,
   "metadata": {},
   "outputs": [],
   "source": [
    "conv.set_weights([v_filter[:, :, None, None]])"
   ]
  },
  {
   "cell_type": "code",
   "execution_count": 30,
   "metadata": {},
   "outputs": [],
   "source": [
    "filtered = conv.predict(dataset)"
   ]
  },
  {
   "cell_type": "code",
   "execution_count": 31,
   "metadata": {},
   "outputs": [
    {
     "data": {
      "image/png": "[encoded data removed]",
      "text/plain": [
       "<Figure size 432x288 with 3 Axes>"
      ]
     },
     "metadata": {
      "needs_background": "light"
     },
     "output_type": "display_data"
    }
   ],
   "source": [
    "fig, axs = plt.subplots(1, 3)\n",
    "\n",
    "for i, d in enumerate(filtered):\n",
    "    axs[i].imshow(np.squeeze(d), cmap='Blues', vmax=2, vmin=0)\n",
    "fig.tight_layout()"
   ]
  },
  {
   "cell_type": "markdown",
   "metadata": {},
   "source": [
    "Note how the images with the vertical lines now have a different maximum pixel value than the one with the horizontal line. \n",
    "A \"MaxPool\" layer in Keras performs such an operation."
   ]
  },
  {
   "cell_type": "code",
   "execution_count": 32,
   "metadata": {},
   "outputs": [],
   "source": [
    "pool = Sequential([layers.MaxPool2D(pool_size=(3, 3))])"
   ]
  },
  {
   "cell_type": "code",
   "execution_count": 33,
   "metadata": {},
   "outputs": [],
   "source": [
    "pooled = pool.predict(filtered)"
   ]
  },
  {
   "cell_type": "code",
   "execution_count": 34,
   "metadata": {},
   "outputs": [
    {
     "data": {
      "image/png": "[encoded data removed]",
      "text/plain": [
       "<Figure size 432x288 with 3 Axes>"
      ]
     },
     "metadata": {
      "needs_background": "light"
     },
     "output_type": "display_data"
    }
   ],
   "source": [
    "fig, axs = plt.subplots(1, 3)\n",
    "\n",
    "for i, d in enumerate(pooled):\n",
    "    axs[i].imshow(np.atleast_2d(np.squeeze(d)), cmap='Blues', vmax=2, vmin=0)\n",
    "fig.tight_layout()"
   ]
  },
  {
   "cell_type": "markdown",
   "metadata": {},
   "source": [
    "The classification is now easy: Dark blue (a value of 2) means vertical line.\n",
    "The beauty of CNNs is that they can learn these filters for you automatically."
   ]
  },
  {
   "cell_type": "markdown",
   "metadata": {},
   "source": [
    "### <font color='red'>Your Turn: A CNN for MNIST</font>\n",
    "\n",
    "The simple \"convolution\" plus \"pooling\" example above is indeed simpler than the common types of CNNs seen in practice.\n",
    "We did not have a last layer that performs the actual classification, and used a \"max pool\" that reduced the image down to a single value.\n",
    "Typically, we want multiple layers of convolutions to learn very complex filters and do not want to reduce an image down to a single pixel between each stage.\n",
    "Further, adding a neural network to learn the actual classification at the end is common.\n",
    "\n",
    "Your task is to train network from [Muhammad Rizwan's tutorial](https://engmrk.com/convolutional-neural-network-3/) with ReLU activation functions: \n",
    "\n",
    "<img width=50% src=\"https://engmrk.com/wp-content/uploads/2018/09/Image-Architecture-of-Convolutional-Neural-Network.png\"/>\n",
    "\n",
    "**HINT**: \"Conv NxMxO\" means O filters with shape NxM\n",
    "\n",
    "**HINT**: There is a Flatten layer between the last Pooling layer and first FC (FC means Dense)\n",
    "\n",
    "**HINT**: Don't forget `input_shape`!"
   ]
  },
  {
   "cell_type": "code",
   "execution_count": 36,
   "metadata": {},
   "outputs": [],
   "source": []
  },
  {
   "cell_type": "markdown",
   "metadata": {},
   "source": [
    "<font color='white'>\n",
    "model = Sequential([\n",
    "    layers.Conv2D(32, (5, 5), input_shape=(img_cols, img_rows, 1)),\n",
    "    layers.MaxPool2D(pool_size=(2, 2)),\n",
    "    layers.Conv2D(64, (5, 5)),\n",
    "    layers.MaxPool2D(pool_size=(2, 2)),\n",
    "    layers.Flatten(),\n",
    "    layers.Dense(1024, activation='relu'),\n",
    "    layers.Dense(10, activation='softmax')\n",
    "])\n",
    "</font>"
   ]
  },
  {
   "cell_type": "code",
   "execution_count": 37,
   "metadata": {},
   "outputs": [],
   "source": [
    "assert model.count_params() == 1111946"
   ]
  },
  {
   "cell_type": "markdown",
   "metadata": {},
   "source": [
    "<font color='red'>Compile and train it</font>"
   ]
  },
  {
   "cell_type": "code",
   "execution_count": 38,
   "metadata": {},
   "outputs": [
    {
     "name": "stdout",
     "output_type": "stream",
     "text": [
      "Train on 54000 samples, validate on 6000 samples\n",
      "Epoch 1/512\n",
      "54000/54000 [==============================] - 42s 781us/sample - loss: 0.1283 - val_loss: 0.0565\n",
      "Epoch 2/512\n",
      "54000/54000 [==============================] - 42s 775us/sample - loss: 0.0457 - val_loss: 0.0487\n",
      "Epoch 3/512\n",
      "54000/54000 [==============================] - 40s 742us/sample - loss: 0.0301 - val_loss: 0.0777\n",
      "Epoch 4/512\n",
      "54000/54000 [==============================] - 40s 736us/sample - loss: 0.0213 - val_loss: 0.0575\n",
      "Epoch 5/512\n",
      "54000/54000 [==============================] - 41s 754us/sample - loss: 0.0196 - val_loss: 0.0604\n",
      "Epoch 6/512\n",
      "54000/54000 [==============================] - 40s 740us/sample - loss: 0.0138 - val_loss: 0.0671\n",
      "Epoch 7/512\n",
      "54000/54000 [==============================] - 39s 730us/sample - loss: 0.0125 - val_loss: 0.0734\n",
      "Epoch 8/512\n",
      "54000/54000 [==============================] - 42s 769us/sample - loss: 0.0098 - val_loss: 0.0668\n",
      "Epoch 9/512\n",
      "54000/54000 [==============================] - 39s 723us/sample - loss: 0.0103 - val_loss: 0.1195\n",
      "Epoch 10/512\n",
      "54000/54000 [==============================] - 39s 717us/sample - loss: 0.0092 - val_loss: 0.0871\n"
     ]
    },
    {
     "data": {
      "text/plain": [
       "<tensorflow.python.keras.callbacks.History at 0x23eaee68b48>"
      ]
     },
     "execution_count": 38,
     "metadata": {},
     "output_type": "execute_result"
    }
   ],
   "source": []
  },
  {
   "cell_type": "markdown",
   "metadata": {},
   "source": [
    "<font color='white'>\n",
    "model.compile('rmsprop', 'categorical_crossentropy')\n",
    "model.fit(x_train, y_train, batch_size=64, epochs=512, validation_split=0.1,\n",
    "          callbacks=[keras.callbacks.EarlyStopping(patience=8, restore_best_weights=True)])\n",
    "</font>"
   ]
  },
  {
   "cell_type": "markdown",
   "metadata": {},
   "source": [
    "Compute the score"
   ]
  },
  {
   "cell_type": "code",
   "execution_count": 39,
   "metadata": {},
   "outputs": [
    {
     "name": "stdout",
     "output_type": "stream",
     "text": [
      "Accuracy on hold-out set:  98.73%\n"
     ]
    }
   ],
   "source": [
    "cnn_accuracy = accuracy_score(model.predict_classes(x_test), y_test)\n",
    "print(f'Accuracy on hold-out set: {cnn_accuracy * 100 : .2f}%')\n",
    "assert cnn_accuracy > 0.985"
   ]
  },
  {
   "cell_type": "markdown",
   "metadata": {},
   "source": [
    "The accuracy should be higher than your fully-connected nueral network!"
   ]
  },
  {
   "cell_type": "code",
   "execution_count": null,
   "metadata": {},
   "outputs": [],
   "source": []
  }
 ],
 "metadata": {
  "kernelspec": {
   "display_name": "Python 3",
   "language": "python",
   "name": "python3"
  },
  "language_info": {
   "codemirror_mode": {
    "name": "ipython",
    "version": 3
   },
   "file_extension": ".py",
   "mimetype": "text/x-python",
   "name": "python",
   "nbconvert_exporter": "python",
   "pygments_lexer": "ipython3",
   "version": "3.7.9"
  }
 },
 "nbformat": 4,
 "nbformat_minor": 4
}
